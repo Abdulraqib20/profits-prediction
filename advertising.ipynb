{
 "cells": [
  {
   "cell_type": "markdown",
   "id": "8be33c3c-efbb-40a9-a7a0-ed5e0e1f71ae",
   "metadata": {},
   "source": [
    "# Profits Predictions for RAQIB Tech Inc."
   ]
  },
  {
   "cell_type": "markdown",
   "id": "55c7359d-2c1e-41f7-b840-b1e9ee6e3501",
   "metadata": {},
   "source": [
    "### Importing Libraries"
   ]
  },
  {
   "cell_type": "code",
   "execution_count": 132,
   "id": "0762de7e-e9d5-48e3-a039-8eb19644ac1f",
   "metadata": {},
   "outputs": [],
   "source": [
    "import numpy as np\n",
    "import pandas as pd\n",
    "import matplotlib.pyplot as plt\n",
    "import copy, math\n",
    "import warnings\n",
    "import xgboost as xgb\n",
    "import seaborn as sns\n",
    "from __future__ import division\n",
    "from scipy.stats import pearsonr\n",
    "from sklearn.model_selection import train_test_split\n",
    "import catboost as cb\n",
    "from sklearn.model_selection import GridSearchCV\n",
    "from sklearn.metrics import mean_squared_error\n",
    "warnings.filterwarnings('ignore')\n",
    "np.set_printoptions(precision=2)"
   ]
  },
  {
   "cell_type": "markdown",
   "id": "48182347-919f-4185-ab92-df0ca993a95e",
   "metadata": {},
   "source": [
    "### Loading the Dataset"
   ]
  },
  {
   "cell_type": "code",
   "execution_count": 3,
   "id": "ee994905-50d6-4176-b06a-89628e46e0d3",
   "metadata": {},
   "outputs": [
    {
     "data": {
      "text/html": [
       "<div>\n",
       "<style scoped>\n",
       "    .dataframe tbody tr th:only-of-type {\n",
       "        vertical-align: middle;\n",
       "    }\n",
       "\n",
       "    .dataframe tbody tr th {\n",
       "        vertical-align: top;\n",
       "    }\n",
       "\n",
       "    .dataframe thead th {\n",
       "        text-align: right;\n",
       "    }\n",
       "</style>\n",
       "<table border=\"1\" class=\"dataframe\">\n",
       "  <thead>\n",
       "    <tr style=\"text-align: right;\">\n",
       "      <th></th>\n",
       "      <th>R&amp;D Spend</th>\n",
       "      <th>Administration</th>\n",
       "      <th>Marketing Spend</th>\n",
       "      <th>State</th>\n",
       "      <th>Profit</th>\n",
       "    </tr>\n",
       "  </thead>\n",
       "  <tbody>\n",
       "    <tr>\n",
       "      <th>0</th>\n",
       "      <td>165349.20</td>\n",
       "      <td>136897.80</td>\n",
       "      <td>471784.10</td>\n",
       "      <td>New York</td>\n",
       "      <td>192261.83</td>\n",
       "    </tr>\n",
       "    <tr>\n",
       "      <th>1</th>\n",
       "      <td>162597.70</td>\n",
       "      <td>151377.59</td>\n",
       "      <td>443898.53</td>\n",
       "      <td>California</td>\n",
       "      <td>191792.06</td>\n",
       "    </tr>\n",
       "    <tr>\n",
       "      <th>2</th>\n",
       "      <td>153441.51</td>\n",
       "      <td>101145.55</td>\n",
       "      <td>407934.54</td>\n",
       "      <td>Florida</td>\n",
       "      <td>191050.39</td>\n",
       "    </tr>\n",
       "    <tr>\n",
       "      <th>3</th>\n",
       "      <td>144372.41</td>\n",
       "      <td>118671.85</td>\n",
       "      <td>383199.62</td>\n",
       "      <td>New York</td>\n",
       "      <td>182901.99</td>\n",
       "    </tr>\n",
       "    <tr>\n",
       "      <th>4</th>\n",
       "      <td>142107.34</td>\n",
       "      <td>91391.77</td>\n",
       "      <td>366168.42</td>\n",
       "      <td>Florida</td>\n",
       "      <td>166187.94</td>\n",
       "    </tr>\n",
       "  </tbody>\n",
       "</table>\n",
       "</div>"
      ],
      "text/plain": [
       "   R&D Spend  Administration  Marketing Spend       State     Profit\n",
       "0  165349.20       136897.80        471784.10    New York  192261.83\n",
       "1  162597.70       151377.59        443898.53  California  191792.06\n",
       "2  153441.51       101145.55        407934.54     Florida  191050.39\n",
       "3  144372.41       118671.85        383199.62    New York  182901.99\n",
       "4  142107.34        91391.77        366168.42     Florida  166187.94"
      ]
     },
     "execution_count": 3,
     "metadata": {},
     "output_type": "execute_result"
    }
   ],
   "source": [
    "data = pd.read_csv(r'C:\\Users\\user\\Desktop\\__PYTHON__\\Datasets\\Machine Learning Full\\Linear Regression\\1000_Companies.csv')\n",
    "data.head()"
   ]
  },
  {
   "cell_type": "markdown",
   "id": "1e82cd31-84de-470a-a2a8-69bab23afdbb",
   "metadata": {},
   "source": [
    "### EDA"
   ]
  },
  {
   "cell_type": "code",
   "execution_count": 4,
   "id": "467b1535-91d3-4ee9-b5d5-5566b1875fb4",
   "metadata": {},
   "outputs": [
    {
     "data": {
      "text/plain": [
       "(1000, 5)"
      ]
     },
     "execution_count": 4,
     "metadata": {},
     "output_type": "execute_result"
    }
   ],
   "source": [
    "data.shape"
   ]
  },
  {
   "cell_type": "code",
   "execution_count": 5,
   "id": "b692c6f7-cacb-407f-a3ec-fa4dc5753209",
   "metadata": {},
   "outputs": [
    {
     "name": "stdout",
     "output_type": "stream",
     "text": [
      "<class 'pandas.core.frame.DataFrame'>\n",
      "RangeIndex: 1000 entries, 0 to 999\n",
      "Data columns (total 5 columns):\n",
      " #   Column           Non-Null Count  Dtype  \n",
      "---  ------           --------------  -----  \n",
      " 0   R&D Spend        1000 non-null   float64\n",
      " 1   Administration   1000 non-null   float64\n",
      " 2   Marketing Spend  1000 non-null   float64\n",
      " 3   State            1000 non-null   object \n",
      " 4   Profit           1000 non-null   float64\n",
      "dtypes: float64(4), object(1)\n",
      "memory usage: 39.2+ KB\n"
     ]
    }
   ],
   "source": [
    "data.info()"
   ]
  },
  {
   "cell_type": "code",
   "execution_count": 6,
   "id": "f3f0a57e-30f9-470e-b615-72eb3967e235",
   "metadata": {},
   "outputs": [
    {
     "data": {
      "text/plain": [
       "R&D Spend          0\n",
       "Administration     0\n",
       "Marketing Spend    0\n",
       "State              0\n",
       "Profit             0\n",
       "dtype: int64"
      ]
     },
     "execution_count": 6,
     "metadata": {},
     "output_type": "execute_result"
    }
   ],
   "source": [
    "data.isnull().sum()"
   ]
  },
  {
   "cell_type": "code",
   "execution_count": 7,
   "id": "b6f611be-1940-4948-896d-a3258ea56b54",
   "metadata": {},
   "outputs": [
    {
     "data": {
      "text/plain": [
       "California    344\n",
       "New York      334\n",
       "Florida       322\n",
       "Name: State, dtype: int64"
      ]
     },
     "execution_count": 7,
     "metadata": {},
     "output_type": "execute_result"
    }
   ],
   "source": [
    "data['State'].value_counts()"
   ]
  },
  {
   "cell_type": "code",
   "execution_count": 8,
   "id": "cf514f05-d769-4aa5-9060-58fe715d25b7",
   "metadata": {},
   "outputs": [],
   "source": [
    "state_map = {'New York': 0, 'California': 1, 'Florida': 2}\n",
    "\n",
    "data['State'] = data['State'].map(state_map)"
   ]
  },
  {
   "cell_type": "markdown",
   "id": "c686498a-76e0-4019-9958-c3ab475593dd",
   "metadata": {},
   "source": [
    "### Finding Correlations between features"
   ]
  },
  {
   "cell_type": "code",
   "execution_count": 10,
   "id": "17e241c6-c843-4923-9956-f24d3cd531fa",
   "metadata": {},
   "outputs": [
    {
     "name": "stdout",
     "output_type": "stream",
     "text": [
      "features = ['R&D Spend', 'Administration', 'Marketing Spend', 'State']\n",
      "target = Profit\n"
     ]
    }
   ],
   "source": [
    "features = data.iloc[:, :4].columns.tolist()\n",
    "target = data.iloc[:, 4].name\n",
    "print('features =', features)\n",
    "print('target =', target)"
   ]
  },
  {
   "cell_type": "code",
   "execution_count": 11,
   "id": "75359043-11c4-4f27-958c-81db34c7809d",
   "metadata": {},
   "outputs": [],
   "source": [
    "correlations =  {}\n",
    "for f in features:\n",
    "    data_temp = data[[f, target]]\n",
    "    x1 = data_temp[f].values\n",
    "    x2 = data_temp[target].values\n",
    "    key = f + ' vs ' + target\n",
    "    correlations[key] = pearsonr(x1,x2)[0]"
   ]
  },
  {
   "cell_type": "code",
   "execution_count": 12,
   "id": "1789c183-9b91-4212-b3ab-1027e97bec2c",
   "metadata": {
    "tags": []
   },
   "outputs": [
    {
     "data": {
      "text/html": [
       "<div>\n",
       "<style scoped>\n",
       "    .dataframe tbody tr th:only-of-type {\n",
       "        vertical-align: middle;\n",
       "    }\n",
       "\n",
       "    .dataframe tbody tr th {\n",
       "        vertical-align: top;\n",
       "    }\n",
       "\n",
       "    .dataframe thead th {\n",
       "        text-align: right;\n",
       "    }\n",
       "</style>\n",
       "<table border=\"1\" class=\"dataframe\">\n",
       "  <thead>\n",
       "    <tr style=\"text-align: right;\">\n",
       "      <th></th>\n",
       "      <th>Value</th>\n",
       "    </tr>\n",
       "  </thead>\n",
       "  <tbody>\n",
       "    <tr>\n",
       "      <th>R&amp;D Spend vs Profit</th>\n",
       "      <td>0.945245</td>\n",
       "    </tr>\n",
       "    <tr>\n",
       "      <th>Marketing Spend vs Profit</th>\n",
       "      <td>0.917270</td>\n",
       "    </tr>\n",
       "    <tr>\n",
       "      <th>Administration vs Profit</th>\n",
       "      <td>0.741560</td>\n",
       "    </tr>\n",
       "    <tr>\n",
       "      <th>State vs Profit</th>\n",
       "      <td>0.016969</td>\n",
       "    </tr>\n",
       "  </tbody>\n",
       "</table>\n",
       "</div>"
      ],
      "text/plain": [
       "                              Value\n",
       "R&D Spend vs Profit        0.945245\n",
       "Marketing Spend vs Profit  0.917270\n",
       "Administration vs Profit   0.741560\n",
       "State vs Profit            0.016969"
      ]
     },
     "execution_count": 12,
     "metadata": {},
     "output_type": "execute_result"
    }
   ],
   "source": [
    "data_corr = pd.DataFrame(correlations, index=['Value']).T\n",
    "data_corr.loc[data_corr['Value'].abs().sort_values(ascending=False).index]"
   ]
  },
  {
   "cell_type": "code",
   "execution_count": 22,
   "id": "50ed2252-c06f-402b-8ceb-189ce3e5bb98",
   "metadata": {},
   "outputs": [
    {
     "data": {
      "text/plain": [
       "<AxesSubplot:>"
      ]
     },
     "execution_count": 22,
     "metadata": {},
     "output_type": "execute_result"
    },
    {
     "data": {
      "image/png": "[encoded data removed]",
      "text/plain": [
       "<Figure size 432x288 with 2 Axes>"
      ]
     },
     "metadata": {
      "needs_background": "light"
     },
     "output_type": "display_data"
    }
   ],
   "source": [
    "sns.heatmap(data=data_corr.loc[data_corr['Value'].abs().sort_values(ascending=False).index], cmap='Spectral')"
   ]
  },
  {
   "cell_type": "code",
   "execution_count": 13,
   "id": "6571c131-eeb8-4028-a5bd-704e7d55b8ec",
   "metadata": {},
   "outputs": [
    {
     "data": {
      "text/html": [
       "<div>\n",
       "<style scoped>\n",
       "    .dataframe tbody tr th:only-of-type {\n",
       "        vertical-align: middle;\n",
       "    }\n",
       "\n",
       "    .dataframe tbody tr th {\n",
       "        vertical-align: top;\n",
       "    }\n",
       "\n",
       "    .dataframe thead th {\n",
       "        text-align: right;\n",
       "    }\n",
       "</style>\n",
       "<table border=\"1\" class=\"dataframe\">\n",
       "  <thead>\n",
       "    <tr style=\"text-align: right;\">\n",
       "      <th></th>\n",
       "      <th>R&amp;D Spend</th>\n",
       "      <th>Administration</th>\n",
       "      <th>Marketing Spend</th>\n",
       "      <th>State</th>\n",
       "      <th>Profit</th>\n",
       "    </tr>\n",
       "  </thead>\n",
       "  <tbody>\n",
       "    <tr>\n",
       "      <th>R&amp;D Spend</th>\n",
       "      <td>1.000000</td>\n",
       "      <td>0.582434</td>\n",
       "      <td>0.978407</td>\n",
       "      <td>0.026450</td>\n",
       "      <td>0.945245</td>\n",
       "    </tr>\n",
       "    <tr>\n",
       "      <th>Administration</th>\n",
       "      <td>0.582434</td>\n",
       "      <td>1.000000</td>\n",
       "      <td>0.520465</td>\n",
       "      <td>0.000870</td>\n",
       "      <td>0.741560</td>\n",
       "    </tr>\n",
       "    <tr>\n",
       "      <th>Marketing Spend</th>\n",
       "      <td>0.978407</td>\n",
       "      <td>0.520465</td>\n",
       "      <td>1.000000</td>\n",
       "      <td>0.034363</td>\n",
       "      <td>0.917270</td>\n",
       "    </tr>\n",
       "    <tr>\n",
       "      <th>State</th>\n",
       "      <td>0.026450</td>\n",
       "      <td>0.000870</td>\n",
       "      <td>0.034363</td>\n",
       "      <td>1.000000</td>\n",
       "      <td>0.016969</td>\n",
       "    </tr>\n",
       "    <tr>\n",
       "      <th>Profit</th>\n",
       "      <td>0.945245</td>\n",
       "      <td>0.741560</td>\n",
       "      <td>0.917270</td>\n",
       "      <td>0.016969</td>\n",
       "      <td>1.000000</td>\n",
       "    </tr>\n",
       "  </tbody>\n",
       "</table>\n",
       "</div>"
      ],
      "text/plain": [
       "                 R&D Spend  Administration  Marketing Spend     State  \\\n",
       "R&D Spend         1.000000        0.582434         0.978407  0.026450   \n",
       "Administration    0.582434        1.000000         0.520465  0.000870   \n",
       "Marketing Spend   0.978407        0.520465         1.000000  0.034363   \n",
       "State             0.026450        0.000870         0.034363  1.000000   \n",
       "Profit            0.945245        0.741560         0.917270  0.016969   \n",
       "\n",
       "                   Profit  \n",
       "R&D Spend        0.945245  \n",
       "Administration   0.741560  \n",
       "Marketing Spend  0.917270  \n",
       "State            0.016969  \n",
       "Profit           1.000000  "
      ]
     },
     "execution_count": 13,
     "metadata": {},
     "output_type": "execute_result"
    }
   ],
   "source": [
    "data.corr()"
   ]
  },
  {
   "cell_type": "markdown",
   "id": "81fe5ff2-36f2-48f8-be3c-0dc3527af75f",
   "metadata": {},
   "source": [
    "### Model Training"
   ]
  },
  {
   "cell_type": "code",
   "execution_count": 24,
   "id": "fe1942ac-d68f-4359-8d0f-a1b6a2f44a69",
   "metadata": {},
   "outputs": [],
   "source": [
    "X = data.iloc[:, :4]\n",
    "y = data.iloc[:, 4]"
   ]
  },
  {
   "cell_type": "code",
   "execution_count": 26,
   "id": "bef2319d-ed34-4fd8-b1f5-771f4392963c",
   "metadata": {},
   "outputs": [],
   "source": [
    "from sklearn.model_selection import train_test_split\n",
    "\n",
    "X_train, X_test, y_train, y_test = train_test_split(X, y, test_size=0.2, random_state=123)"
   ]
  },
  {
   "cell_type": "code",
   "execution_count": 27,
   "id": "a8e2876e-d6bc-4904-9da0-f652b7646b92",
   "metadata": {},
   "outputs": [
    {
     "name": "stdout",
     "output_type": "stream",
     "text": [
      "(800, 4) (800,)\n",
      "(200, 4) (200,)\n"
     ]
    }
   ],
   "source": [
    "print(X_train.shape, y_train.shape)\n",
    "print(X_test.shape, y_test.shape)"
   ]
  },
  {
   "cell_type": "code",
   "execution_count": 28,
   "id": "5cbe356b-9aec-4a45-ab7a-5e70e3d0696c",
   "metadata": {},
   "outputs": [],
   "source": [
    "xg_reg = xgb.XGBRegressor(objective ='reg:squarederror', n_estimators=150, max_depth=5, colsample_bytree=1, eta=0.5)"
   ]
  },
  {
   "cell_type": "code",
   "execution_count": 29,
   "id": "45b092bf-804a-422d-87ee-428224b69287",
   "metadata": {},
   "outputs": [
    {
     "data": {
      "text/plain": [
       "XGBRegressor(base_score=0.5, booster='gbtree', colsample_bylevel=1,\n",
       "             colsample_bynode=1, colsample_bytree=1, enable_categorical=False,\n",
       "             eta=0.5, gamma=0, gpu_id=-1, importance_type=None,\n",
       "             interaction_constraints='', learning_rate=0.5, max_delta_step=0,\n",
       "             max_depth=5, min_child_weight=1, missing=nan,\n",
       "             monotone_constraints='()', n_estimators=150, n_jobs=4,\n",
       "             num_parallel_tree=1, predictor='auto', random_state=0, reg_alpha=0,\n",
       "             reg_lambda=1, scale_pos_weight=1, subsample=1, tree_method='exact',\n",
       "             validate_parameters=1, verbosity=None)"
      ]
     },
     "execution_count": 29,
     "metadata": {},
     "output_type": "execute_result"
    }
   ],
   "source": [
    "xg_reg.fit(X_train, y_train)"
   ]
  },
  {
   "cell_type": "code",
   "execution_count": 30,
   "id": "e72a8786-4b79-4b0a-aa56-84247a85cdf0",
   "metadata": {},
   "outputs": [],
   "source": [
    "preds = xg_reg.predict(X_test)"
   ]
  },
  {
   "cell_type": "markdown",
   "id": "3882a17e-4166-4726-b89b-d1a1c4576d1f",
   "metadata": {},
   "source": [
    "### Model Performance Evaluation"
   ]
  },
  {
   "cell_type": "code",
   "execution_count": 32,
   "id": "47b95f60-cea2-4d8d-a67e-1146a2800e91",
   "metadata": {},
   "outputs": [
    {
     "name": "stdout",
     "output_type": "stream",
     "text": [
      "RMSE: 2268.239402\n",
      "RMSLE: 7.726759\n"
     ]
    }
   ],
   "source": [
    "rmse = np.sqrt(mean_squared_error(y_test, preds))\n",
    "print(\"RMSE: %f\" % (rmse))\n",
    "\n",
    "rmsle = np.log(np.sqrt(mean_squared_error(y_test, preds)))\n",
    "print(\"RMSLE: %f\" % (rmsle))"
   ]
  },
  {
   "cell_type": "code",
   "execution_count": 33,
   "id": "0074047d-63ec-477a-8762-3ea27ff4468f",
   "metadata": {},
   "outputs": [
    {
     "name": "stdout",
     "output_type": "stream",
     "text": [
      "R Squared Score: 0.99662\n"
     ]
    }
   ],
   "source": [
    "from sklearn.metrics import r2_score\n",
    "\n",
    "print('R Squared Score: {:.5f}'.format(r2_score(y_test, preds)))"
   ]
  },
  {
   "cell_type": "code",
   "execution_count": 35,
   "id": "002dedd7-4b99-4fbd-bf2c-4ca156da38fc",
   "metadata": {},
   "outputs": [
    {
     "name": "stdout",
     "output_type": "stream",
     "text": [
      "First 10 predictions of the model on test data:\n",
      " [178898.11 121609.8  123367.49 129829.68 176034.9  172892.23  60176.43\n",
      "  65077.42 151658.42  77150.95]\n"
     ]
    }
   ],
   "source": [
    "# The first 10 predictions by the model\n",
    "\n",
    "print('First 10 predictions of the model on test data:\\n', preds[:10])"
   ]
  },
  {
   "cell_type": "code",
   "execution_count": 42,
   "id": "4be521c1-9868-4852-b40c-656e6365440d",
   "metadata": {},
   "outputs": [
    {
     "name": "stdout",
     "output_type": "stream",
     "text": [
      "First 10 values of test data:\n",
      " [178847.6  121482.79 123485.25 129889.87 175906.27 172769.32  60368.49\n",
      "  64997.04 151891.29  77242.45]\n"
     ]
    }
   ],
   "source": [
    "print('First 10 values of test data:\\n', y_test[:10].values)"
   ]
  },
  {
   "cell_type": "code",
   "execution_count": 282,
   "id": "a6f9f158-c77a-4e92-a38c-c1e513753be3",
   "metadata": {},
   "outputs": [
    {
     "data": {
      "text/plain": [
       "array([178898.11, 121609.8 , 123367.49, 129829.68, 176034.9 ],\n",
       "      dtype=float32)"
      ]
     },
     "execution_count": 282,
     "metadata": {},
     "output_type": "execute_result"
    }
   ],
   "source": [
    "xg_reg.predict(X_test[:5])"
   ]
  },
  {
   "cell_type": "code",
   "execution_count": 283,
   "id": "e27be71b-f5e9-487f-bb43-609730d1aeef",
   "metadata": {},
   "outputs": [
    {
     "data": {
      "text/plain": [
       "array([178847.6 , 121482.79, 123485.25, 129889.87, 175906.27])"
      ]
     },
     "execution_count": 283,
     "metadata": {},
     "output_type": "execute_result"
    }
   ],
   "source": [
    "y_test[:5]"
   ]
  },
  {
   "cell_type": "code",
   "execution_count": 75,
   "id": "9860bfd7-b414-4e98-be40-090e3563d02d",
   "metadata": {},
   "outputs": [],
   "source": [
    "xg_regr = xgb.XGBRegressor(objective ='reg:squarederror', alpha= 25, eta= 0.7, max_depth= 4, \n",
    "                           n_estimators= 170, n_jobs=-1, base_score=1e-3, reg_alpha=50, subsample=0.9)"
   ]
  },
  {
   "cell_type": "code",
   "execution_count": 77,
   "id": "aa8851cb-cdb0-4dc2-8530-4c912eb61afa",
   "metadata": {},
   "outputs": [
    {
     "data": {
      "text/plain": [
       "XGBRegressor(alpha=25, base_score=0.001, booster='gbtree', colsample_bylevel=1,\n",
       "             colsample_bynode=1, colsample_bytree=1, enable_categorical=False,\n",
       "             eta=0.7, gamma=0, gpu_id=-1, importance_type=None,\n",
       "             interaction_constraints='', learning_rate=0.699999988,\n",
       "             max_delta_step=0, max_depth=4, min_child_weight=1, missing=nan,\n",
       "             monotone_constraints='()', n_estimators=170, n_jobs=-1,\n",
       "             num_parallel_tree=1, predictor='auto', random_state=0,\n",
       "             reg_alpha=50, reg_lambda=1, scale_pos_weight=1, subsample=0.9,\n",
       "             tree_method='exact', validate_parameters=1, verbosity=None)"
      ]
     },
     "execution_count": 77,
     "metadata": {},
     "output_type": "execute_result"
    }
   ],
   "source": [
    "xg_regr.fit(X_train, y_train)"
   ]
  },
  {
   "cell_type": "code",
   "execution_count": 78,
   "id": "571b9b32-c3ec-44c5-ab89-ea46acbb9151",
   "metadata": {},
   "outputs": [],
   "source": [
    "y_pred = xg_regr.predict(X_test)"
   ]
  },
  {
   "cell_type": "code",
   "execution_count": 80,
   "id": "dd23db0a-2470-4462-ad98-cf5924ab9de3",
   "metadata": {},
   "outputs": [
    {
     "name": "stdout",
     "output_type": "stream",
     "text": [
      "RMSE: 1423.439077\n",
      "RMSLE: 7.260831\n"
     ]
    }
   ],
   "source": [
    "rmse = np.sqrt(mean_squared_error(y_test, y_pred))\n",
    "print(\"RMSE: %f\" % (rmse))\n",
    "\n",
    "rmsle = np.log(np.sqrt(mean_squared_error(y_test, y_pred)))\n",
    "print(\"RMSLE: %f\" % (rmsle))"
   ]
  },
  {
   "cell_type": "code",
   "execution_count": 93,
   "id": "4990759e-4dcc-4b8e-bd35-13feeff84d09",
   "metadata": {},
   "outputs": [
    {
     "data": {
      "text/plain": [
       "1423.4390768112532"
      ]
     },
     "execution_count": 93,
     "metadata": {},
     "output_type": "execute_result"
    }
   ],
   "source": [
    "J_mse = np.sum((y_pred - y_test)**2)/ X_test.shape[0]\n",
    "np.sqrt(J_mse)"
   ]
  },
  {
   "cell_type": "code",
   "execution_count": 94,
   "id": "b48b586e-5886-468f-8b41-eed4572813f2",
   "metadata": {},
   "outputs": [
    {
     "name": "stdout",
     "output_type": "stream",
     "text": [
      "99.86686184294898\n",
      "99.99983464434192\n"
     ]
    }
   ],
   "source": [
    "print(xg_regr.score(X_test, y_test)*100)\n",
    "print(xg_regr.score(X_train, y_train)*100)"
   ]
  },
  {
   "cell_type": "code",
   "execution_count": 90,
   "id": "bd12e77d-9f98-4ab7-a4d5-febcdd66dd25",
   "metadata": {},
   "outputs": [
    {
     "name": "stdout",
     "output_type": "stream",
     "text": [
      "R Squared Score: 0.9986686184294898\n"
     ]
    }
   ],
   "source": [
    "from sklearn.metrics import r2_score\n",
    "\n",
    "print('R Squared Score: {}'.format(r2_score(y_test, y_pred)))"
   ]
  },
  {
   "cell_type": "code",
   "execution_count": 89,
   "id": "e109b6dd-7ca7-470b-a093-e74545d6c783",
   "metadata": {},
   "outputs": [
    {
     "name": "stdout",
     "output_type": "stream",
     "text": [
      "R square obtain for normal equation method is : 0.9986686184294898\n"
     ]
    }
   ],
   "source": [
    "sse = np.sum((y_pred - y_test)**2)\n",
    "sst = np.sum((y_test - y_test.mean())**2)\n",
    "R_square = 1 - (sse/sst)\n",
    "print('R square obtain for normal equation method is :',R_square)"
   ]
  },
  {
   "cell_type": "code",
   "execution_count": 84,
   "id": "7bac92d6-ca3f-4c37-967a-e3726b7c2070",
   "metadata": {},
   "outputs": [
    {
     "name": "stdout",
     "output_type": "stream",
     "text": [
      "First 10 predictions of the model on test data:\n",
      " [178812.19 121107.32 123578.88 129652.12 175892.39 172887.78  60250.8\n",
      "  65142.46 151928.7   77159.84]\n"
     ]
    }
   ],
   "source": [
    "# The first 10 predictions by the model\n",
    "\n",
    "print('First 10 predictions of the model on test data:\\n', y_pred[:10])"
   ]
  },
  {
   "cell_type": "code",
   "execution_count": 86,
   "id": "f46e1129-545f-4b3f-b2ed-114a19ee1ba0",
   "metadata": {},
   "outputs": [
    {
     "name": "stdout",
     "output_type": "stream",
     "text": [
      "First 10 values of test data:\n",
      " [178847.6  121482.79 123485.25 129889.87 175906.27 172769.32  60368.49\n",
      "  64997.04 151891.29  77242.45]\n"
     ]
    }
   ],
   "source": [
    "print('First 10 values of test data:\\n', y_test[:10].values)"
   ]
  },
  {
   "cell_type": "markdown",
   "id": "a35a7f9d-2e63-400f-a498-a9c0cc5b3042",
   "metadata": {},
   "source": [
    "### Checking for Multicollinearity\n",
    "\n",
    "Linear regession assumes that there is little or no Multicollinearity in the data. Multicollinearity occurs when two or more independent variables are too highly correlated to each other. It makes it hard to interpret the model and also creates an overfitting problem. The variance inflation factor, VIF identifies correlation between independent variables and strength of that correlation."
   ]
  },
  {
   "cell_type": "code",
   "execution_count": 100,
   "id": "8dedfb47-7e97-4008-be57-f8b45c0e4f4a",
   "metadata": {},
   "outputs": [],
   "source": [
    "from statsmodels.stats.outliers_influence import variance_inflation_factor\n",
    "\n",
    "def calc_vif(X):\n",
    "    vif = pd.DataFrame()\n",
    "    vif['variables'] = X.columns\n",
    "    vif['VIF'] = [variance_inflation_factor(X.values, i) for i in range(X.shape[1])]\n",
    "    return(vif)"
   ]
  },
  {
   "cell_type": "code",
   "execution_count": 102,
   "id": "ecbfde11-da5b-440b-a061-9dcb3fe333cc",
   "metadata": {},
   "outputs": [
    {
     "data": {
      "text/html": [
       "<div>\n",
       "<style scoped>\n",
       "    .dataframe tbody tr th:only-of-type {\n",
       "        vertical-align: middle;\n",
       "    }\n",
       "\n",
       "    .dataframe tbody tr th {\n",
       "        vertical-align: top;\n",
       "    }\n",
       "\n",
       "    .dataframe thead th {\n",
       "        text-align: right;\n",
       "    }\n",
       "</style>\n",
       "<table border=\"1\" class=\"dataframe\">\n",
       "  <thead>\n",
       "    <tr style=\"text-align: right;\">\n",
       "      <th></th>\n",
       "      <th>variables</th>\n",
       "      <th>VIF</th>\n",
       "    </tr>\n",
       "  </thead>\n",
       "  <tbody>\n",
       "    <tr>\n",
       "      <th>0</th>\n",
       "      <td>R&amp;D Spend</td>\n",
       "      <td>72.303108</td>\n",
       "    </tr>\n",
       "    <tr>\n",
       "      <th>1</th>\n",
       "      <td>Administration</td>\n",
       "      <td>17.124589</td>\n",
       "    </tr>\n",
       "    <tr>\n",
       "      <th>2</th>\n",
       "      <td>Marketing Spend</td>\n",
       "      <td>129.135841</td>\n",
       "    </tr>\n",
       "    <tr>\n",
       "      <th>3</th>\n",
       "      <td>State</td>\n",
       "      <td>2.476758</td>\n",
       "    </tr>\n",
       "  </tbody>\n",
       "</table>\n",
       "</div>"
      ],
      "text/plain": [
       "         variables         VIF\n",
       "0        R&D Spend   72.303108\n",
       "1   Administration   17.124589\n",
       "2  Marketing Spend  129.135841\n",
       "3            State    2.476758"
      ]
     },
     "execution_count": 102,
     "metadata": {},
     "output_type": "execute_result"
    }
   ],
   "source": [
    "calc_vif(X)"
   ]
  },
  {
   "cell_type": "code",
   "execution_count": 105,
   "id": "c2697982-0274-4d2f-8bc3-64e96fb54541",
   "metadata": {},
   "outputs": [
    {
     "data": {
      "text/html": [
       "<div>\n",
       "<style scoped>\n",
       "    .dataframe tbody tr th:only-of-type {\n",
       "        vertical-align: middle;\n",
       "    }\n",
       "\n",
       "    .dataframe tbody tr th {\n",
       "        vertical-align: top;\n",
       "    }\n",
       "\n",
       "    .dataframe thead th {\n",
       "        text-align: right;\n",
       "    }\n",
       "</style>\n",
       "<table border=\"1\" class=\"dataframe\">\n",
       "  <thead>\n",
       "    <tr style=\"text-align: right;\">\n",
       "      <th></th>\n",
       "      <th>variables</th>\n",
       "      <th>VIF</th>\n",
       "    </tr>\n",
       "  </thead>\n",
       "  <tbody>\n",
       "    <tr>\n",
       "      <th>0</th>\n",
       "      <td>Administration</td>\n",
       "      <td>10.330301</td>\n",
       "    </tr>\n",
       "    <tr>\n",
       "      <th>1</th>\n",
       "      <td>Marketing Spend</td>\n",
       "      <td>8.887476</td>\n",
       "    </tr>\n",
       "    <tr>\n",
       "      <th>2</th>\n",
       "      <td>State</td>\n",
       "      <td>2.450933</td>\n",
       "    </tr>\n",
       "  </tbody>\n",
       "</table>\n",
       "</div>"
      ],
      "text/plain": [
       "         variables        VIF\n",
       "0   Administration  10.330301\n",
       "1  Marketing Spend   8.887476\n",
       "2            State   2.450933"
      ]
     },
     "execution_count": 105,
     "metadata": {},
     "output_type": "execute_result"
    }
   ],
   "source": [
    "X_ = data.drop(['R&D Spend', 'Profit'], axis=1)\n",
    "calc_vif(X_)"
   ]
  },
  {
   "cell_type": "code",
   "execution_count": 129,
   "id": "e32fbdc0-d272-4865-be4a-4a0d5509cd73",
   "metadata": {},
   "outputs": [],
   "source": [
    "# data2 = data.copy()\n",
    "# data2['New Feature'] = data.apply(lambda x: x['Marketing Spend'] - x['R&D Spend'], axis=1)\n",
    "# X1 = data2.drop(['Marketing Spend', 'R&D Spend', 'Profit'], axis=1)\n",
    "# calc_vif(X1)"
   ]
  },
  {
   "cell_type": "markdown",
   "id": "4ec03eb5-bd79-4d97-b8cc-9e7af989557b",
   "metadata": {},
   "source": [
    "### Checking for Linearity, Residual normality and mean"
   ]
  },
  {
   "cell_type": "code",
   "execution_count": 130,
   "id": "cbfd8586-741a-4888-ba87-77ce9b90f795",
   "metadata": {},
   "outputs": [
    {
     "data": {
      "image/png": "[encoded data removed]",
      "text/plain": [
       "<Figure size 1008x360 with 2 Axes>"
      ]
     },
     "metadata": {
      "needs_background": "light"
     },
     "output_type": "display_data"
    }
   ],
   "source": [
    "f = plt.figure(figsize=(14,5))\n",
    "ax = f.add_subplot(121)\n",
    "sns.regplot(y_test, y_pred, color='#E26E38', marker='o')\n",
    "sns.scatterplot(y_test, y_pred,ax=ax,color='r')\n",
    "ax.set_title('Check for Linearity:\\n Actual Vs Predicted value')\n",
    "\n",
    "ax = f.add_subplot(122)\n",
    "sns.distplot((y_test - y_pred),ax=ax,color='b')\n",
    "ax.axvline((y_test - y_pred).mean(),color='k',linestyle='--')\n",
    "ax.set_title('Check for Residual normality & mean: \\n Residual eror');"
   ]
  },
  {
   "cell_type": "markdown",
   "id": "73945565-0333-4cd8-bc02-d22b67be863b",
   "metadata": {},
   "source": [
    "## `Question`\n",
    "\n",
    "For the month of July, the following data for RAQIB Tech Inc. was generated:\n",
    "\n",
    "R&D Spend = $300,344.5\n",
    "\n",
    "Administration = $700,203\n",
    "\n",
    "Marketing = $240,555.6\n",
    "\n",
    "Branch Location = New York\n",
    "\n",
    "Use your model to predict the profit for the month"
   ]
  },
  {
   "cell_type": "code",
   "execution_count": 131,
   "id": "acb8b20e-20c3-480d-b3f7-7d9fba3f6098",
   "metadata": {},
   "outputs": [
    {
     "name": "stdout",
     "output_type": "stream",
     "text": [
      "The profit for July of RAQIB Tech Inc. is predicted to be [350151.38] dollars.\n"
     ]
    }
   ],
   "source": [
    "given = np.array([[300344.5, 700203, 240555.6, 0]])\n",
    "pred_given = xg_regr.predict(given)\n",
    "print('The profit for July of RAQIB Tech Inc. is predicted to be {} dollars.'.format(pred_given))"
   ]
  },
  {
   "cell_type": "code",
   "execution_count": null,
   "id": "3f42593a-9ce2-4899-9372-d9b8466561d8",
   "metadata": {},
   "outputs": [],
   "source": []
  }
 ],
 "metadata": {
  "kernelspec": {
   "display_name": "Python 3 (ipykernel)",
   "language": "python",
   "name": "python3"
  },
  "language_info": {
   "codemirror_mode": {
    "name": "ipython",
    "version": 3
   },
   "file_extension": ".py",
   "mimetype": "text/x-python",
   "name": "python",
   "nbconvert_exporter": "python",
   "pygments_lexer": "ipython3",
   "version": "3.9.12"
  }
 },
 "nbformat": 4,
 "nbformat_minor": 5
}
